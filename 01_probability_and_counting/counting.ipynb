{
 "cells": [
  {
   "cell_type": "markdown",
   "id": "377136b5-9a6b-434d-9620-6c8cec012767",
   "metadata": {},
   "source": [
    "# Counting"
   ]
  },
  {
   "cell_type": "markdown",
   "id": "084d4bb4-5357-4d1a-aca6-aa45513cfd45",
   "metadata": {},
   "source": [
    "---"
   ]
  },
  {
   "cell_type": "markdown",
   "id": "2ab9615a-edd4-413e-aa03-f87b9721d331",
   "metadata": {},
   "source": [
    "## Problem 1\n",
    "\n",
    "> How many ways are there to permute the letters in the word **MISSISSIPPI**?\n",
    "\n",
    "\n",
    "### Formula Used: Permutations with Repetition\n",
    "\n",
    "$$\n",
    "\\text{Total permutations} = \\frac{n!}{n_1! \\cdot n_2! \\cdot \\cdots}\n",
    "$$\n",
    "\n",
    "Where:\n",
    "- $n$ = total number of letters\n",
    "- $n_i$) = frequency of each repeated letter\n",
    "\n",
    "\n",
    "### Solution:\n",
    "\n",
    "- Total letters: \\( n = 11 \\)\n",
    "- Letter counts:\n",
    "  - \"I\" appears 4 times → $n_1 = 4$\n",
    "  - \"S\" appears 4 times → $n_2 = 4$\n",
    "  - \"P\" appears 2 times → $n_3 = 2$\n",
    "  - \"M\" appears 1 time  → $n_4 = 1$\n",
    "\n",
    "$$\n",
    "\\text{Answer} = \\frac{11!}{4! \\cdot 4! \\cdot 2! \\cdot 1!} = \\frac{39916800}{1152} = \\boxed{34650}\n",
    "$$\n"
   ]
  },
  {
   "cell_type": "markdown",
   "id": "94b3508b-645a-494c-8fa7-1c0d5773470b",
   "metadata": {},
   "source": [
    "---"
   ]
  },
  {
   "cell_type": "markdown",
   "id": "bb628a2c-197d-4e78-ad9f-38de2712b99d",
   "metadata": {},
   "source": [
    "## Problem 2 (a)\n",
    "\n",
    "> How many 7-digit phone numbers are possible, assuming that the first digit can’t be a 0 or a 1?\n",
    "\n",
    "### Formula Used: Basic Counting Principle\n",
    "\n",
    "Let a phone number be a 7-digit sequence: $D_1 D_2 D_3 D_4 D_5 D_6 D_7$\n",
    "\n",
    "\n",
    "### Calculation:\n",
    "\n",
    "- $D_1$: First digit must be from 2 to 9 ⇒ **8 choices**\n",
    "- $D_2$ to $D_7$: Each can be 0 through 9 ⇒ **10 choices each**\n",
    "\n",
    "$$\n",
    "\\boxed{\\text{Total} = 8 \\times 10^6 = 8,000,000}\n",
    "$$\n",
    "\n",
    "\n",
    "**Final Answer:** **8,000,000**\n"
   ]
  },
  {
   "cell_type": "markdown",
   "id": "61c3a6f5-a5b9-44e6-8c1d-371af716abb9",
   "metadata": {},
   "source": [
    "## Problem 2 (b)\n",
    "\n",
    "> Re-solve (a), except now assume also that the phone number is **not allowed to start with 911** (since this is reserved for emergency use, and it would not be desirable for the system to wait to see whether more digits were going to be dialed after someone has dialed 911).\n",
    "\n",
    "\n",
    "###  Formula Used:\n",
    "**Basic Counting Principle**  \n",
    "- Total valid 7-digit numbers from (a):  \n",
    "  $$\n",
    "  8 \\times 10^6 = 8,\\!000,\\!000\n",
    "  $$\n",
    "- Subtract all numbers that start with 911 (i.e., `911xxxx`):  \n",
    "  $$\n",
    "  10^4 = 10,\\!000\n",
    "  $$\n",
    "\n",
    "\n",
    "### Final Answer:\n",
    "$$\n",
    "\\boxed{8,\\!000,\\!000 - 10,\\!000 = 7,\\!990,\\!000}\n",
    "$$\n",
    "\n",
    "- We only exclude numbers that **start exactly with `911`**.\n",
    "- It is **still allowed** for a phone number to have `1` as the second or third digit, as long as the full prefix is not `911`.\n"
   ]
  }
 ],
 "metadata": {
  "kernelspec": {
   "display_name": "Python 3 (ipykernel)",
   "language": "python",
   "name": "python3"
  },
  "language_info": {
   "codemirror_mode": {
    "name": "ipython",
    "version": 3
   },
   "file_extension": ".py",
   "mimetype": "text/x-python",
   "name": "python",
   "nbconvert_exporter": "python",
   "pygments_lexer": "ipython3",
   "version": "3.12.6"
  }
 },
 "nbformat": 4,
 "nbformat_minor": 5
}
