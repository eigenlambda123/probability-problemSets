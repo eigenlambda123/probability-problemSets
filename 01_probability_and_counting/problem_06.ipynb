{
 "cells": [
  {
   "cell_type": "markdown",
   "id": "15ba6956-2fd2-4afe-9c47-c61c20bf1199",
   "metadata": {},
   "source": [
    "## **Problem 6**\n",
    "\n",
    "There are 20 people at a chess club on a certain day. They each find opponents and start playing.\n",
    "\n",
    "> **How many possibilities are there for how they are matched up, assuming that in each game it does matter who has the white pieces (in a chess game, one player has the white pieces and the other has the black pieces)?**\n",
    "\n",
    "\n",
    "### **Concept Used:**\n",
    "\n",
    "**Perfect Matchings + White/Black Assignment** — We need to count the number of ways to:\n",
    "1. Divide 20 players into 10 disjoint **unordered** pairs\n",
    "2. For each pair, assign one player as **white** and the other as **black**\n"
   ]
  },
  {
   "cell_type": "markdown",
   "id": "fb24abd8-16e9-403c-a854-020caf97238d",
   "metadata": {},
   "source": [
    "---\n",
    "\n",
    "### **Calculation:**\n",
    "\n",
    "1. Number of ways to divide 20 players into 10 **unordered pairs**:\n",
    "   $$\n",
    "   \\frac{20!}{(2!)^{10} \\cdot 10!}\n",
    "   $$\n",
    "\n",
    "2. For each of the 10 pairs, there are **2 ways** to assign white/black:\n",
    "   $$\n",
    "   2^{10}\n",
    "   $$\n",
    "\n",
    "\n",
    "### **Final Answer:**\n",
    "\n",
    "$$\n",
    "\\boxed{ \\frac{20!}{(2!)^{10} \\cdot 10!} \\cdot 2^{10} }\n",
    "$$\n"
   ]
  }
 ],
 "metadata": {
  "kernelspec": {
   "display_name": "Python 3 (ipykernel)",
   "language": "python",
   "name": "python3"
  },
  "language_info": {
   "codemirror_mode": {
    "name": "ipython",
    "version": 3
   },
   "file_extension": ".py",
   "mimetype": "text/x-python",
   "name": "python",
   "nbconvert_exporter": "python",
   "pygments_lexer": "ipython3",
   "version": "3.12.6"
  }
 },
 "nbformat": 4,
 "nbformat_minor": 5
}
