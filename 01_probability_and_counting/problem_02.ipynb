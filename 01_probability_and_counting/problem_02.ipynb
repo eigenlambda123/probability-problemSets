{
 "cells": [
  {
   "cell_type": "markdown",
   "id": "cb9c3b19-f958-4069-9562-0742496a7b21",
   "metadata": {},
   "source": [
    "## Problem 2 (a)\n",
    "\n",
    "> How many 7-digit phone numbers are possible, assuming that the first digit can’t be a 0 or a 1?\n",
    "\n",
    "### Formula Used: Basic Counting Principle\n",
    "\n",
    "Let a phone number be a 7-digit sequence: $D_1 D_2 D_3 D_4 D_5 D_6 D_7$\n",
    "\n",
    "\n",
    "### Calculation:\n",
    "\n",
    "- $D_1$: First digit must be from 2 to 9 ⇒ **8 choices**\n",
    "- $D_2$ to $D_7$: Each can be 0 through 9 ⇒ **10 choices each**\n",
    "\n",
    "$$\n",
    "\\boxed{\\text{Total} = 8 \\times 10^6 = 8,000,000}\n",
    "$$\n",
    "\n",
    "\n",
    "**Final Answer:** **8,000,000**\n"
   ]
  },
  {
   "cell_type": "markdown",
   "id": "62c3ad70-0bf3-4d19-a123-da529ddd48e8",
   "metadata": {},
   "source": [
    "---"
   ]
  },
  {
   "cell_type": "markdown",
   "id": "d36a4b3e-78f7-4bd3-8a81-5f7c1264cb53",
   "metadata": {},
   "source": [
    "## Problem 2 (b)\n",
    "\n",
    "> Re-solve (a), except now assume also that the phone number is **not allowed to start with 911** (since this is reserved for emergency use, and it would not be desirable for the system to wait to see whether more digits were going to be dialed after someone has dialed 911).\n",
    "\n",
    "\n",
    "###  Formula Used:\n",
    "**Basic Counting Principle**  \n",
    "- Total valid 7-digit numbers from (a):  \n",
    "  $$\n",
    "  8 \\times 10^6 = 8,\\!000,\\!000\n",
    "  $$\n",
    "- Subtract all numbers that start with 911 (i.e., `911xxxx`):  \n",
    "  $$\n",
    "  10^4 = 10,\\!000\n",
    "  $$\n",
    "\n",
    "\n",
    "### Final Answer:\n",
    "$$\n",
    "\\boxed{8,\\!000,\\!000 - 10,\\!000 = 7,\\!990,\\!000}\n",
    "$$\n",
    "\n",
    "- We only exclude numbers that **start exactly with `911`**.\n",
    "- It is **still allowed** for a phone number to have `1` as the second or third digit, as long as the full prefix is not `911`.\n"
   ]
  }
 ],
 "metadata": {
  "kernelspec": {
   "display_name": "Python 3 (ipykernel)",
   "language": "python",
   "name": "python3"
  },
  "language_info": {
   "codemirror_mode": {
    "name": "ipython",
    "version": 3
   },
   "file_extension": ".py",
   "mimetype": "text/x-python",
   "name": "python",
   "nbconvert_exporter": "python",
   "pygments_lexer": "ipython3",
   "version": "3.12.6"
  }
 },
 "nbformat": 4,
 "nbformat_minor": 5
}
