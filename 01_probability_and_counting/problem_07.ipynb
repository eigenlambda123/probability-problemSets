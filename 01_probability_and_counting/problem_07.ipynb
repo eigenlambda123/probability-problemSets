{
 "cells": [
  {
   "cell_type": "markdown",
   "id": "80edc32c-5a6e-4f1a-902b-1da3d379ef59",
   "metadata": {},
   "source": [
    "## **Problem 7(a)**\n",
    "\n",
    "Two chess players, A and B, are going to play 7 games. Each game has three possible outcomes: a win for A (1 point), a draw (0.5 points), or a loss for A (0 points).\n",
    "\n",
    "> **How many possible outcomes for the individual games are there, such that overall player A ends up with 3 wins, 2 draws, and 2 losses?**\n",
    "\n",
    "\n",
    "### **Concept Used:**\n",
    "\n",
    "**Permutations of Outcomes** — We are assigning 3 wins, 2 draws, and 2 losses across 7 games. The number of ways to permute outcomes with repeated elements is a **multinomial coefficient**:\n"
   ]
  },
  {
   "cell_type": "markdown",
   "id": "f82c1378-e29c-4e6a-a9a7-f6deaaa55ac1",
   "metadata": {},
   "source": [
    "### **Calculation:**\n",
    "\n",
    "$$\n",
    "\\frac{7!}{3! \\cdot 2! \\cdot 2!} = \\boxed{210}\n",
    "$$\n",
    "\n",
    "\n",
    "### **Final Answer:**\n",
    "\n",
    "$$\n",
    "\\boxed{210}\n",
    "$$"
   ]
  },
  {
   "cell_type": "markdown",
   "id": "8732b6f7-225c-4ecb-85e9-cc7c7ea287bd",
   "metadata": {},
   "source": [
    "---\n",
    "\n",
    "## **Problem 7(b)**\n",
    "\n",
    "> **How many possible outcomes for the individual games are there, such that player A ends up with 4 points and player B ends up with 3 points?**\n",
    "\n",
    "\n",
    "### **Concept Used:**\n",
    "\n",
    "**Enumerating Score Combinations** — A must earn exactly 4 points and B must earn exactly 3 points. Each game gives out a total of 1 point, so this score is valid (4 + 3 = 7). We list all (W, D, L) combinations for A that result in exactly 4 points and count the sequences using multinomial coefficients.\n"
   ]
  },
  {
   "cell_type": "markdown",
   "id": "6ba85cdb-feb5-4d7e-b46c-ce30507e77b6",
   "metadata": {},
   "source": [
    "\n",
    "### **Valid Combinations and Counts:**\n",
    "\n",
    "| Wins | Draws | Losses | A Points      | B Points      | Count |\n",
    "| ---- | ----- | ------ | ------------- | ------------- | ----- |\n",
    "| 1    | 6     | 0      | 1 + 0.5×6 = 4 | 0 + 0.5×6 = 3 | 7     |\n",
    "| 2    | 4     | 1      | 2 + 0.5×4 = 4 | 1 + 0.5×4 = 3 | 105   |\n",
    "| 3    | 2     | 2      | 3 + 0.5×2 = 4 | 2 + 0.5×2 = 3 | 210   |\n",
    "| 4    | 0     | 3      | 4 + 0.5×0 = 4 | 3 + 0.5×0 = 3 | 35    |\n",
    "\n",
    "\n",
    "### **Final Answer:**\n",
    "\n",
    "$$\n",
    "\\boxed{7 + 105 + 210 + 35 = 357}\n",
    "$$\n",
    "\n"
   ]
  },
  {
   "cell_type": "markdown",
   "id": "537932d7-c1fa-4acb-a679-2a7d58c9fa50",
   "metadata": {},
   "source": [
    "---\n",
    "\n",
    "## **Problem 7(c)**\n",
    "\n",
    "Now assume that A and B are playing a **best-of-7** match, where the match ends as soon as either player reaches 4 points.\n",
    "\n",
    "> **How many possible outcomes are there such that the match lasts all 7 games and A wins the match by a score of 4 to 3?**\n",
    "\n",
    "### **Concept Used:**\n",
    "\n",
    "**Early Stopping with Score Thresholds** — From the 357 valid 7-game outcome sequences (from part b), we must **filter** only those sequences where:\n",
    "\n",
    "1. After **6 games**, neither A nor B has 4 or more points\n",
    "2. After **game 7**, A ends with exactly 4 points, and B with 3\n",
    "\n",
    "This ensures the match **lasts 7 games** and ends with a 4–3 score."
   ]
  },
  {
   "cell_type": "markdown",
   "id": "f9315bbd-70a6-4645-b01b-ebc1ba10e199",
   "metadata": {},
   "source": [
    "### **Approach:**\n",
    "\n",
    "1. Start with the 357 total valid 7-game sequences from (b)\n",
    "2. For each sequence, simulate the running point totals after each game\n",
    "3. Count only those where:\n",
    "\n",
    "   * A < 4 and B < 4 after 6 games\n",
    "   * A = 4 and B = 3 after 7 games\n",
    "\n",
    "> This requires brute-force filtering of all 357 sequences.\n",
    "\n",
    "\n",
    "### **Final Answer:**\n",
    "\n",
    "Let:\n",
    "\n",
    "$$\n",
    "\\text{Answer} = \\boxed{ \\text{Number of 7-game sequences from part (b) where A reaches 4 points on game 7, and B has 3 total} }\n",
    "$$"
   ]
  }
 ],
 "metadata": {
  "kernelspec": {
   "display_name": "Python 3 (ipykernel)",
   "language": "python",
   "name": "python3"
  },
  "language_info": {
   "codemirror_mode": {
    "name": "ipython",
    "version": 3
   },
   "file_extension": ".py",
   "mimetype": "text/x-python",
   "name": "python",
   "nbconvert_exporter": "python",
   "pygments_lexer": "ipython3",
   "version": "3.12.6"
  }
 },
 "nbformat": 4,
 "nbformat_minor": 5
}
