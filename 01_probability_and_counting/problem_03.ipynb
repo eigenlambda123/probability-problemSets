{
 "cells": [
  {
   "cell_type": "markdown",
   "id": "f6e486e5-551a-4811-ac92-5d37d3b7c2f6",
   "metadata": {},
   "source": [
    "## **Problem 3 (a)**\n",
    "\n",
    "Fred is planning to go out to dinner each night of a certain week, Monday through Friday, with each dinner being at one of his ten favorite restaurants.\n",
    "\n",
    "> **How many possibilities are there for Fred’s schedule of dinners from Monday through Friday, if Fred is not willing to eat at the same restaurant more than once?**\n",
    "\n",
    "### **Concept Used:**\n",
    "\n",
    "**Basic Counting Principle** — since Fred chooses a different restaurant each night, we multiply the number of choices left each day.\n",
    "\n",
    "\n",
    "### **Calculation:**\n",
    "\n",
    "Let the choices per day be:\n",
    "\n",
    "* Monday: 10 options\n",
    "* Tuesday: 9 options\n",
    "* Wednesday: 8 options\n",
    "* Thursday: 7 options\n",
    "* Friday: 6 options\n",
    "\n",
    "$$\n",
    "\\text{Total Possibilities} = 10 \\times 9 \\times 8 \\times 7 \\times 6 = 30,240\n",
    "$$\n",
    "\n",
    "Alternatively, use the **permutation formula**:\n",
    "\n",
    "$$\n",
    "P(10, 5) = \\frac{10!}{(10-5)!} = \\frac{10!}{5!} = 30,240\n",
    "$$\n",
    "\n",
    "\n",
    "### **Final Answer:**\n",
    "\n",
    "$$\n",
    "\\boxed{30,\\!240}\n",
    "$$"
   ]
  },
  {
   "cell_type": "markdown",
   "id": "b4f65b16-644a-433b-b56d-337ccf79905f",
   "metadata": {},
   "source": [
    "---"
   ]
  },
  {
   "cell_type": "markdown",
   "id": "3a76c587-5d26-4493-8aff-52a52f9bc2ec",
   "metadata": {},
   "source": [
    "## **Problem 3 (b)**\n",
    "\n",
    "> **How many possibilities are there for Fred’s schedule of dinners from Monday through Friday, if Fred is willing to eat at the same restaurant more than once, but is not willing to eat at the same place twice in a row (or more)?**\n",
    "\n",
    "### **Concept Used:**\n",
    "\n",
    "**Basic Counting Principle with Restrictions** — repetition is allowed, **except** for consecutive days.\n",
    "\n",
    "\n",
    "### **Calculation:**\n",
    "\n",
    "* **Monday**: 10 choices (any of the 10 restaurants)\n",
    "* **Tuesday to Friday**: 9 choices each (any restaurant **except** the one from the previous day)\n",
    "\n",
    "$$\n",
    "\\text{Total Possibilities} = 10 \\times 9 \\times 9 \\times 9 \\times 9 = 10 \\times 9^4 = 65,\\!610\n",
    "$$\n",
    "\n",
    "\n",
    "### **Final Answer:**\n",
    "\n",
    "$$\n",
    "\\boxed{65,\\!610}\n",
    "$$\n"
   ]
  }
 ],
 "metadata": {
  "kernelspec": {
   "display_name": "Python 3 (ipykernel)",
   "language": "python",
   "name": "python3"
  },
  "language_info": {
   "codemirror_mode": {
    "name": "ipython",
    "version": 3
   },
   "file_extension": ".py",
   "mimetype": "text/x-python",
   "name": "python",
   "nbconvert_exporter": "python",
   "pygments_lexer": "ipython3",
   "version": "3.12.6"
  }
 },
 "nbformat": 4,
 "nbformat_minor": 5
}
