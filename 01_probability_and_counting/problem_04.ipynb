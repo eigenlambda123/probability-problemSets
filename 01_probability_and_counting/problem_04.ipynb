{
 "cells": [
  {
   "cell_type": "markdown",
   "id": "fd611d8e-1219-4938-9991-a37a8470c931",
   "metadata": {},
   "source": [
    "## **Problem 4 (a)**\n",
    "\n",
    "A round-robin tournament is being held with \\$n\\$ tennis players; this means that every player will play against every other player **exactly once**.\n",
    "\n",
    "> **How many possible outcomes are there for the tournament (the outcome lists out who won and who lost for each game)?**\n",
    "\n",
    "\n",
    "### **Concept Used:**\n",
    "\n",
    "**Combinations + Basic Counting Principle** — For each match between 2 players, there are 2 possible outcomes (one winner and one loser). We count how many matches there are using combinations.\n",
    "\n",
    "\n",
    "### **Calculation:**\n",
    "\n",
    "* Number of matches:\n",
    "\n",
    "  $$\n",
    "  \\binom{n}{2} = \\frac{n(n - 1)}{2}\n",
    "  $$\n",
    "* Each match has 2 possible outcomes (Player A wins or Player B wins)\n",
    "* So, total possible outcomes:\n",
    "\n",
    "  $$\n",
    "  2^{\\binom{n}{2}}\n",
    "  $$\n",
    "  \n",
    "\n",
    "### **Final Answer:**\n",
    "\n",
    "$$\n",
    "\\boxed{2^{\\binom{n}{2}}}\n",
    "$$"
   ]
  },
  {
   "cell_type": "markdown",
   "id": "5d2b10eb-2a25-42ae-a881-f0d393396845",
   "metadata": {},
   "source": [
    "---"
   ]
  },
  {
   "cell_type": "markdown",
   "id": "796dc9a3-86d9-48c2-9245-5c3ac324ee7e",
   "metadata": {},
   "source": [
    "## **Problem 4 (b)**\n",
    "\n",
    "> **How many games are played in total?**\n",
    "\n",
    "### **Concept Used:**\n",
    "\n",
    "**Combinations** — Each game is a match between 2 distinct players.\n",
    "\n",
    "### **Calculation:**\n",
    "\n",
    "* Total number of games played is the number of ways to choose 2 players from \\$n\\$:\n",
    "\n",
    "  $$\n",
    "  \\binom{n}{2} = \\frac{n(n - 1)}{2}\n",
    "  $$\n",
    "\n",
    "\n",
    "### **Final Answer:**\n",
    "\n",
    "$$\n",
    "\\boxed{\\binom{n}{2}}\n",
    "$$"
   ]
  },
  {
   "cell_type": "code",
   "execution_count": null,
   "id": "58fc28be-efa2-40df-99ae-aae7f45250b5",
   "metadata": {},
   "outputs": [],
   "source": []
  }
 ],
 "metadata": {
  "kernelspec": {
   "display_name": "Python 3 (ipykernel)",
   "language": "python",
   "name": "python3"
  },
  "language_info": {
   "codemirror_mode": {
    "name": "ipython",
    "version": 3
   },
   "file_extension": ".py",
   "mimetype": "text/x-python",
   "name": "python",
   "nbconvert_exporter": "python",
   "pygments_lexer": "ipython3",
   "version": "3.12.6"
  }
 },
 "nbformat": 4,
 "nbformat_minor": 5
}
