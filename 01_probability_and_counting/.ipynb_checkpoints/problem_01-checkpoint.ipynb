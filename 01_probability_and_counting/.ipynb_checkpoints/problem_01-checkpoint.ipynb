{
 "cells": [
  {
   "cell_type": "markdown",
   "id": "2ab9615a-edd4-413e-aa03-f87b9721d331",
   "metadata": {},
   "source": [
    "## Problem 1\n",
    "\n",
    "> How many ways are there to permute the letters in the word **MISSISSIPPI**?\n",
    "\n",
    "\n",
    "### Formula Used: Permutations with Repetition\n",
    "\n",
    "$$\n",
    "\\text{Total permutations} = \\frac{n!}{n_1! \\cdot n_2! \\cdot \\cdots}\n",
    "$$\n",
    "\n",
    "Where:\n",
    "- $n$ = total number of letters\n",
    "- $n_i$) = frequency of each repeated letter\n",
    "\n",
    "\n",
    "### Solution:\n",
    "\n",
    "- Total letters: \\( n = 11 \\)\n",
    "- Letter counts:\n",
    "  - \"I\" appears 4 times → $n_1 = 4$\n",
    "  - \"S\" appears 4 times → $n_2 = 4$\n",
    "  - \"P\" appears 2 times → $n_3 = 2$\n",
    "  - \"M\" appears 1 time  → $n_4 = 1$\n",
    "\n",
    "$$\n",
    "\\text{Answer} = \\frac{11!}{4! \\cdot 4! \\cdot 2! \\cdot 1!} = \\frac{39916800}{1152} = \\boxed{34650}\n",
    "$$\n"
   ]
  }
 ],
 "metadata": {
  "kernelspec": {
   "display_name": "Python 3 (ipykernel)",
   "language": "python",
   "name": "python3"
  },
  "language_info": {
   "codemirror_mode": {
    "name": "ipython",
    "version": 3
   },
   "file_extension": ".py",
   "mimetype": "text/x-python",
   "name": "python",
   "nbconvert_exporter": "python",
   "pygments_lexer": "ipython3",
   "version": "3.12.6"
  }
 },
 "nbformat": 4,
 "nbformat_minor": 5
}
