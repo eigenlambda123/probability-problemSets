{
 "cells": [
  {
   "cell_type": "markdown",
   "id": "e11e9a40-5758-4079-818a-57feb33fdb75",
   "metadata": {},
   "source": [
    "\n",
    "\n",
    "## **Problem 8(a)**\n",
    "\n",
    "There are 12 people, and they are to be split into **3 teams**, where one team has **2 people** and the other two teams have **5 people** each.\n",
    "\n",
    "> **How many ways are there to split the 12 people into these teams, assuming that the order of the teams does not matter?**\n",
    "\n",
    "\n",
    "### **Concept Used:**\n",
    "\n",
    "**Set Partition with Partial Symmetry** — We're dividing 12 people into groups of sizes (5, 5, 2).\n",
    "Since the **two teams of size 5 are indistinguishable**, and the size-2 team is unique, we divide by **2!** (not 3!).\n"
   ]
  },
  {
   "cell_type": "markdown",
   "id": "4abc2575-df7e-4942-a29f-477571a7dcf3",
   "metadata": {},
   "source": [
    "### **Calculation:**\n",
    "\n",
    "$$\n",
    "\\frac{ \\binom{12}{5} \\cdot \\binom{7}{5} }{2!} = \\frac{792 \\cdot 21}{2} = \\boxed{8316}\n",
    "$$\n",
    "\n",
    "\n",
    "### **Final Answer:**\n",
    "\n",
    "$$\n",
    "\\boxed{8316}\n",
    "$$"
   ]
  },
  {
   "cell_type": "markdown",
   "id": "c6823661-689c-4092-8595-e1f3d5a768e8",
   "metadata": {},
   "source": [
    "---\n",
    "\n",
    "## **Problem 8(b)**\n",
    "\n",
    "Now, consider splitting the same 12 people into **3 teams of 4 people each**, with no distinction between teams.\n",
    "\n",
    "> **How many ways are th|ere to split the 12 people into 3 equal-sized teams of 4 people, assuming the order of the teams does not matter?**\n",
    "\n",
    "\n",
    "### **Concept Used:**\n",
    "\n",
    "**Equal-Sized Partition with Full Symmetry** — We're dividing into (4, 4, 4).\n",
    "All teams are the **same size**, so we must divide by **3!** to correct for overcounting due to identical team arrangements.\n"
   ]
  },
  {
   "cell_type": "markdown",
   "id": "bdce5066-cc2e-42c5-9f39-ff3d0bd76921",
   "metadata": {},
   "source": [
    "\n",
    "### **Calculation:**\n",
    "\n",
    "$$\n",
    "\\frac{\n",
    "\\binom{12}{4} \\cdot \\binom{8}{4} \\cdot \\binom{4}{4}\n",
    "}{3!}\n",
    "=\n",
    "\\frac{495 \\cdot 70 \\cdot 1}{6}\n",
    "=\n",
    "\\frac{34650}{6}\n",
    "=\n",
    "\\boxed{5775}\n",
    "$$\n",
    "\n",
    "\n",
    "### **Final Answer:**\n",
    "\n",
    "$$\n",
    "\\boxed{5775}\n",
    "$$\n"
   ]
  }
 ],
 "metadata": {
  "kernelspec": {
   "display_name": "Python 3 (ipykernel)",
   "language": "python",
   "name": "python3"
  },
  "language_info": {
   "codemirror_mode": {
    "name": "ipython",
    "version": 3
   },
   "file_extension": ".py",
   "mimetype": "text/x-python",
   "name": "python",
   "nbconvert_exporter": "python",
   "pygments_lexer": "ipython3",
   "version": "3.12.6"
  }
 },
 "nbformat": 4,
 "nbformat_minor": 5
}
