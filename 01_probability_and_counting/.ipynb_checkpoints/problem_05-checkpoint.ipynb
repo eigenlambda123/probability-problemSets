{
 "cells": [
  {
   "cell_type": "markdown",
   "id": "b24db2a8-1c3d-49a9-8a6d-eb6c3c045f3e",
   "metadata": {},
   "source": [
    "## **Problem 5 (a)**\n",
    "\n",
    "A knock-out tournament is being held with $2^n$ tennis players. In each round, winners move on and losers are eliminated. This continues until only one player remains.\n",
    "\n",
    "> **How many rounds are there?**\n",
    "\n",
    "\n",
    "### **Concept Used:**\n",
    "\n",
    "**Tournament Structure + Powers of 2** — In each round, the number of players is cut in half. The process repeats until only one player is left. We are essentially asking: how many times can you divide $2^n$ by 2 until you get 1?\n",
    "\n",
    "\n",
    "### **Calculation:**\n",
    "\n",
    "- Total players: $2^n$\n",
    "- After 1 round → $2^{n-1}$ players  \n",
    "- After 2 rounds → $2^{n-2}$ players  \n",
    "- $\\dots$  \n",
    "- After $n$ rounds → $1$ player remains\n",
    "\n",
    "\n",
    "### **Final Answer:**\n",
    "\n",
    "$$\n",
    "\\boxed{n}\n",
    "$$\n"
   ]
  },
  {
   "cell_type": "markdown",
   "id": "ae76f2eb-a4c6-4d70-a3ee-2c4b4f295606",
   "metadata": {},
   "source": [
    "---\n",
    "## **Problem 5 (b)**\n",
    "\n",
    "> **Count how many games are played in total, by adding up the number of games played in each round.**\n",
    "\n",
    "\n",
    "### **Concept Used:**\n",
    "\n",
    "**Add Games Per Round** — Each round halves the number of players. Each game eliminates one player, and each round’s number of games is half the number of players entering that round.\n",
    "\n",
    "\n",
    "### **Calculation:**\n",
    "\n",
    "- Round 1: $2^{n-1}$ games  \n",
    "- Round 2: $2^{n-2}$ games  \n",
    "- $\\dots$  \n",
    "- Round $n$: $1$ game\n",
    "\n",
    "This forms a geometric series:\n",
    "\n",
    "$$\n",
    "2^{n-1} + 2^{n-2} + \\dots + 2^0 = 2^n - 1\n",
    "$$\n",
    "\n",
    "\n",
    "### **Final Answer:**\n",
    "\n",
    "$$\n",
    "\\boxed{2^n - 1}\n",
    "$$\n"
   ]
  },
  {
   "cell_type": "markdown",
   "id": "344008cf-e87e-44cc-9f41-d2ab1968ee75",
   "metadata": {},
   "source": [
    "---\n",
    "## **Problem 5 (c)**\n",
    "\n",
    "> **Count how many games are played in total, this time by directly thinking about it without doing almost any calculation.**\n",
    "\n",
    "\n",
    "### **Concept Used:**\n",
    "\n",
    "**Logical Reasoning Based on Elimination** — Each game eliminates one player. The tournament starts with $2^n$ players and ends with 1 winner. Therefore, $2^n - 1$ players must be eliminated, and each elimination comes from a game.\n",
    "\n",
    "### **Final Answer:**\n",
    "\n",
    "$$\n",
    "\\boxed{2^n - 1}\n",
    "$$\n"
   ]
  }
 ],
 "metadata": {
  "kernelspec": {
   "display_name": "Python 3 (ipykernel)",
   "language": "python",
   "name": "python3"
  },
  "language_info": {
   "codemirror_mode": {
    "name": "ipython",
    "version": 3
   },
   "file_extension": ".py",
   "mimetype": "text/x-python",
   "name": "python",
   "nbconvert_exporter": "python",
   "pygments_lexer": "ipython3",
   "version": "3.12.6"
  }
 },
 "nbformat": 4,
 "nbformat_minor": 5
}
