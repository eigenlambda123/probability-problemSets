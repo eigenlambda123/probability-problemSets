{
 "cells": [
  {
   "cell_type": "markdown",
   "id": "49fe9287-b61e-4f4c-a749-7d7b93d334a1",
   "metadata": {},
   "source": [
    "## **Problem 4: Batting Order with Constraint**\n",
    "\n",
    "A baseball manager is determining the batting order for a team with 9 players.\n",
    "\n",
    "> **The manager definitely wants the pitcher to bat last. How many batting orders are possible?**\n",
    "\n",
    "\n",
    "### **Concept Used:**\n",
    "\n",
    "**Permutations with a Fixed Position** — Fix 1 player's position (the pitcher at 9th), and permute the remaining 8 players.\n",
    "\n",
    "---\n",
    "\n",
    "### **Calculation:**\n",
    "\n",
    "- Fix the pitcher at the 9th spot  \n",
    "- Permute the other 8 players: $8!$\n",
    "\n",
    "$$\n",
    "8! = 40{,}320\n",
    "$$\n",
    "\n",
    "\n",
    "### **Final Answer:**\n",
    "$$\n",
    "\\boxed{40{,}320}\n",
    "$$\n"
   ]
  }
 ],
 "metadata": {
  "kernelspec": {
   "display_name": "Python 3 (ipykernel)",
   "language": "python",
   "name": "python3"
  },
  "language_info": {
   "codemirror_mode": {
    "name": "ipython",
    "version": 3
   },
   "file_extension": ".py",
   "mimetype": "text/x-python",
   "name": "python",
   "nbconvert_exporter": "python",
   "pygments_lexer": "ipython3",
   "version": "3.12.6"
  }
 },
 "nbformat": 4,
 "nbformat_minor": 5
}
