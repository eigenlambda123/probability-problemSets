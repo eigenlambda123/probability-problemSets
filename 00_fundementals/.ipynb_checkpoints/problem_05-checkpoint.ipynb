{
 "cells": [
  {
   "cell_type": "markdown",
   "id": "4b06297e-bfb8-4988-9673-8a95ec221d10",
   "metadata": {},
   "source": [
    "## **Problem 5: 8-Digit Number Constraints**\n",
    "\n",
    "> **How many eight-digit numbers can be formed if the leading digit cannot be 0 and the last digit cannot be 1?**\n",
    "\n",
    "\n",
    "### **Concept Used:**\n",
    "\n",
    "**Basic Counting with Positional Constraints** — We calculate digit-by-digit:\n",
    "- First digit ≠ 0 → 9 options (1–9)\n",
    "- Last digit ≠ 1 → 9 options (0, 2–9)\n",
    "- Digits in between (6 total): 10 options each (0–9)"
   ]
  },
  {
   "cell_type": "markdown",
   "id": "a45db18a-dd0a-4a0c-b182-747c69948090",
   "metadata": {},
   "source": [
    "---\n",
    "\n",
    "### **Calculation:**\n",
    "\n",
    "- First digit: 9 choices  \n",
    "- Middle 6 digits: $10^6 = 1{,}000{,}000$  \n",
    "- Last digit: 9 choices\n",
    "\n",
    "$$\n",
    "\\text{Total} = 9 \\cdot 10^6 \\cdot 9 = \\boxed{81{,}000{,}000}\n",
    "$$\n",
    "\n",
    "### **Final Answer:**\n",
    "$$\n",
    "\\boxed{81{,}000{,}000}\n",
    "$$\n"
   ]
  }
 ],
 "metadata": {
  "kernelspec": {
   "display_name": "Python 3 (ipykernel)",
   "language": "python",
   "name": "python3"
  },
  "language_info": {
   "codemirror_mode": {
    "name": "ipython",
    "version": 3
   },
   "file_extension": ".py",
   "mimetype": "text/x-python",
   "name": "python",
   "nbconvert_exporter": "python",
   "pygments_lexer": "ipython3",
   "version": "3.12.6"
  }
 },
 "nbformat": 4,
 "nbformat_minor": 5
}
