{
 "cells": [
  {
   "cell_type": "markdown",
   "id": "ec399cf0-211b-4f92-b9f9-8e97cb3e833c",
   "metadata": {},
   "source": [
    "## **Problem 1-2: Password Combinations**\n",
    "\n",
    "Determine how many different computer passwords are possible if:\n",
    "\n",
    "1. The password has **3 digits followed by 4 letters**\n",
    "2. The password has **2 digits followed by 5 letters**\n",
    "\n",
    "Consider both cases:\n",
    "- **(a)** Digits and letters **can** be repeated  \n",
    "- **(b)** Digits and letters **cannot** be repeated\n",
    "\n",
    "\n",
    "### **Concept Used:**\n",
    "\n",
    "**Basic Multiplication Rule + Permutations** —  \n",
    "- If repetition is allowed, use powers: $k^n$  \n",
    "- If repetition is not allowed, use decreasing product: $k \\cdot (k-1) \\cdot \\dots$"
   ]
  },
  {
   "cell_type": "markdown",
   "id": "0752226f-0259-422f-8b79-3b7a03af1531",
   "metadata": {},
   "source": [
    "---\n",
    "\n",
    "## **Case 1a: 3 digits followed by 4 letters (Repetition Allowed)**\n",
    "\n",
    "- Digits: $10^3 = 1000$  \n",
    "- Letters: $26^4 = 456{,}976$\n",
    "\n",
    "### **Final Answer:**\n",
    "$$\n",
    "\\boxed{10^3 \\cdot 26^4 = 1000 \\cdot 456{,}976 = 456{,}976{,}000}\n",
    "$$\n",
    "\n",
    "---\n",
    "\n",
    "## **Case 1b: 3 digits followed by 4 letters (No Repetition)**\n",
    "\n",
    "- Digits: $10 \\cdot 9 \\cdot 8$  \n",
    "- Letters: $26 \\cdot 25 \\cdot 24 \\cdot 23$\n",
    "\n",
    "### **Final Answer:**\n",
    "$$\n",
    "\\boxed{10 \\cdot 9 \\cdot 8 \\cdot 26 \\cdot 25 \\cdot 24 \\cdot 23 = 258{,}336{,}000}\n",
    "$$\n",
    "\n",
    "---\n",
    "\n",
    "## **Case 2a: 2 digits followed by 5 letters (Repetition Allowed)**\n",
    "\n",
    "- Digits: $10^2 = 100$  \n",
    "- Letters: $26^5 = 11{,}881{,}376$\n",
    "\n",
    "### **Final Answer:**\n",
    "$$\n",
    "\\boxed{100 \\cdot 26^5 = 100 \\cdot 11{,}881{,}376 = 1{,}188{,}137{,}600}\n",
    "$$\n",
    "\n",
    "---\n",
    "\n",
    "## **Case 2b: 2 digits followed by 5 letters (No Repetition)**\n",
    "\n",
    "- Digits: $10 \\cdot 9$  \n",
    "- Letters: $26 \\cdot 25 \\cdot 24 \\cdot 23 \\cdot 22$\n",
    "\n",
    "### **Final Answer:**\n",
    "$$\n",
    "\\boxed{10 \\cdot 9 \\cdot 26 \\cdot 25 \\cdot 24 \\cdot 23 \\cdot 22 = 710{,}424{,}000}\n",
    "$$\n"
   ]
  }
 ],
 "metadata": {
  "kernelspec": {
   "display_name": "Python 3 (ipykernel)",
   "language": "python",
   "name": "python3"
  },
  "language_info": {
   "codemirror_mode": {
    "name": "ipython",
    "version": 3
   },
   "file_extension": ".py",
   "mimetype": "text/x-python",
   "name": "python",
   "nbconvert_exporter": "python",
   "pygments_lexer": "ipython3",
   "version": "3.12.6"
  }
 },
 "nbformat": 4,
 "nbformat_minor": 5
}
