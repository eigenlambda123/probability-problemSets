{
 "cells": [
  {
   "cell_type": "markdown",
   "id": "60bb48a0-9e10-4719-b251-c4765a7f43a3",
   "metadata": {},
   "source": [
    "### **Problem 1: Seating Arrangement with Constraints**  \n",
    "**Scenario**: There are 8 chairs numbered 1 to 8. Two women and three men need to occupy one chair each, with the following rules:  \n",
    "1. **Women** choose first, selecting from chairs $\\mathbf{1}$ to $\\mathbf{4}$.  \n",
    "2. **Men** then choose from the **remaining chairs**.  \n",
    "\n",
    "#### **Question**  \n",
    "Find the total number of possible arrangements.  \n",
    "\n",
    "---\n",
    "\n",
    "#### **Solution**  \n",
    "\n",
    "1. **Step 1: Women's Selections**  \n",
    "   - **Choose 2 chairs out of 4** (chairs 1-4) for the women.  \n",
    "     - Number of ways to choose chairs: $\\dbinom{4}{2}$.  \n",
    "     - Number of ways to arrange 2 women on these chairs: $2!$ (permutations).  \n",
    "     - **Total for women**:  \n",
    "       $$  \n",
    "       \\dbinom{4}{2} \\times 2! = 6 \\times 2 = 12 \\text{ ways.}  \n",
    "       $$  \n",
    "\n",
    "2. **Step 2: Men's Selections**  \n",
    "   - After women occupy 2 chairs, **6 chairs remain** (since 2 are taken by women).  \n",
    "   - **Choose 3 chairs out of 6** for the men.  \n",
    "     - Number of ways to choose chairs: $\\dbinom{6}{3}$.  \n",
    "     - Number of ways to arrange 3 men on these chairs: $3!$.  \n",
    "     - **Total for men**:  \n",
    "       $$  \n",
    "       \\dbinom{6}{3} \\times 3! = 20 \\times 6 = 120 \\text{ ways.}  \n",
    "       $$  \n",
    "\n",
    "3. **Total Arrangements**:  \n",
    "   Multiply the women's and men's arrangements:  \n",
    "   $$  \n",
    "   12 \\text{ (women)} \\times 120 \\text{ (men)} = \\boxed{1440} \\text{ possible arrangements.}  \n",
    "   $$  \n",
    "\n",
    "**Ideas**:  \n",
    "- Order matters (arrangements are distinct).  \n",
    "- Women are restricted to chairs 1-4, while men can take any remaining chairs (including those beyond 4).  \n",
    "- The problem combines combinations (selection) and permutations (arrangement)."
   ]
  }
 ],
 "metadata": {
  "kernelspec": {
   "display_name": "Python 3 (ipykernel)",
   "language": "python",
   "name": "python3"
  },
  "language_info": {
   "codemirror_mode": {
    "name": "ipython",
    "version": 3
   },
   "file_extension": ".py",
   "mimetype": "text/x-python",
   "name": "python",
   "nbconvert_exporter": "python",
   "pygments_lexer": "ipython3",
   "version": "3.12.6"
  }
 },
 "nbformat": 4,
 "nbformat_minor": 5
}
