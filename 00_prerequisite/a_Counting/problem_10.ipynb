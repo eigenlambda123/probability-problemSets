{
 "cells": [
  {
   "cell_type": "markdown",
   "id": "2805a5d1-ac4d-4269-a576-9d4c91c72f47",
   "metadata": {},
   "source": [
    "### **Problem 10: Two-Dice Sum Combination**  \n",
    "**Scenario**: A red die and a blue die are rolled simultaneously.  \n",
    "\n",
    "#### **Question**  \n",
    "In how many ways can the sum of the two dice equal **6**?  \n",
    "\n",
    "---\n",
    "#### **Solution**  \n",
    "List all ordered pairs \\((r, b)\\) where \\(r\\) = red die outcome, \\(b\\) = blue die outcome, and \\(r + b = 6\\):  \n",
    "\n",
    "1. (1, 5)  \n",
    "2. (2, 4)  \n",
    "3. (3, 3)  \n",
    "4. (4, 2)  \n",
    "5. (5, 1)  \n",
    "\n",
    "- **Total Valid Combinations**:  \n",
    "  $$ \\boxed{5} \\text{ ways} $$  "
   ]
  }
 ],
 "metadata": {
  "kernelspec": {
   "display_name": "Python 3 (ipykernel)",
   "language": "python",
   "name": "python3"
  },
  "language_info": {
   "codemirror_mode": {
    "name": "ipython",
    "version": 3
   },
   "file_extension": ".py",
   "mimetype": "text/x-python",
   "name": "python",
   "nbconvert_exporter": "python",
   "pygments_lexer": "ipython3",
   "version": "3.12.6"
  }
 },
 "nbformat": 4,
 "nbformat_minor": 5
}
