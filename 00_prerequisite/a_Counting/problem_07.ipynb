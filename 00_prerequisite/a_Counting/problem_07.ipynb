{
 "cells": [
  {
   "cell_type": "markdown",
   "id": "c7d45408-974b-43e4-8957-504675855fe8",
   "metadata": {},
   "source": [
    "## **Problem 7: Alaska License Plates**\n",
    "\n",
    "The standard format for an Alaska license plate is:\n",
    "> **3 letters followed by 3 digits** (e.g., `ABC123`)\n",
    "\n",
    "---\n",
    "\n",
    "### **(a) How many license plates are possible if repetition **is allowed**?**\n",
    "\n",
    "\n",
    "### **Concept Used:**\n",
    "\n",
    "- Letters: 26 choices each → $26^3$  \n",
    "- Digits: 10 choices each → $10^3$\n",
    "\n",
    "\n",
    "### **Calculation:**\n",
    "\n",
    "$$\n",
    "26^3 \\cdot 10^3 = 17{,}576 \\cdot 1000 = \\boxed{17{,}576{,}000}\n",
    "$$\n"
   ]
  },
  {
   "cell_type": "markdown",
   "id": "2136e372-791d-426c-9ace-66390bd09394",
   "metadata": {},
   "source": [
    "---\n",
    "\n",
    "### **(b) How many license plates are possible if repetition **is not allowed**?**\n",
    "\n",
    "\n",
    "### **Concept Used:**\n",
    "\n",
    "- Letters: $26 \\cdot 25 \\cdot 24$  \n",
    "- Digits: $10 \\cdot 9 \\cdot 8$\n",
    "\n",
    "\n",
    "### **Calculation:**\n",
    "\n",
    "$$\n",
    "(26 \\cdot 25 \\cdot 24) \\cdot (10 \\cdot 9 \\cdot 8) = 15{,}600 \\cdot 720 = \\boxed{11{,}232{,}000}\n",
    "$$\n",
    "\n",
    "\n",
    "### **Final Answers:**\n",
    "\n",
    "| Case | Answer |\n",
    "|------|--------|\n",
    "| Repetition allowed | $\\boxed{17{,}576{,}000}$ |\n",
    "| No repetition      | $\\boxed{11{,}232{,}000}$ |\n"
   ]
  }
 ],
 "metadata": {
  "kernelspec": {
   "display_name": "Python 3 (ipykernel)",
   "language": "python",
   "name": "python3"
  },
  "language_info": {
   "codemirror_mode": {
    "name": "ipython",
    "version": 3
   },
   "file_extension": ".py",
   "mimetype": "text/x-python",
   "name": "python",
   "nbconvert_exporter": "python",
   "pygments_lexer": "ipython3",
   "version": "3.12.6"
  }
 },
 "nbformat": 4,
 "nbformat_minor": 5
}
