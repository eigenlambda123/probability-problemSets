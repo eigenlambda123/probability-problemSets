{
 "cells": [
  {
   "cell_type": "markdown",
   "id": "bd1bb890-196d-47ef-81df-ef5a289598f1",
   "metadata": {},
   "source": [
    "## **Problem 6: 4-Digit Odd Numbers with No Repetition**\n",
    "\n",
    "> **How many 4-digit odd numbers can be formed if no digit can be repeated?**\n",
    "\n",
    "\n",
    "### **Concept Used:**\n",
    "\n",
    "**Permutations with Constraints on Last Digit**  \n",
    "- A number is **odd** → last digit must be 1, 3, 5, 7, or 9 (5 choices)\n",
    "- No repetition → once the last digit is chosen, we pick 3 more digits from the remaining 9 digits"
   ]
  },
  {
   "cell_type": "markdown",
   "id": "06ff53a6-7bc2-484b-8fec-f4008cf1cb3a",
   "metadata": {},
   "source": [
    "---\n",
    "\n",
    "### **Calculation:**\n",
    "\n",
    "**Step 1**: Choose last digit (must be odd): 5 options  \n",
    "**Step 2**: Choose first digit (can’t be 0 or the digit used at the end):  \n",
    "- If last digit ≠ 0 → first digit can be any of remaining 8 or 9 digits depending on case  \n",
    "- But 0 is now allowed as a first digit in a 4-digit number if it's not chosen last  \n",
    "\n",
    "So we just go with total permutations carefully:\n",
    "\n",
    "- For each of the 5 choices of last digit:\n",
    "  - Remaining digits = 9  \n",
    "  - Choose 1st digit: 8 options (can’t be last digit or 0 if used)  \n",
    "  - 2nd digit: 8  \n",
    "  - 3rd digit: 7\n",
    "\n",
    "So:\n",
    "\n",
    "$$\n",
    "\\text{Total} = 5 \\cdot 8 \\cdot 8 \\cdot 7 = \\boxed{2{,}240}\n",
    "$$\n",
    "\n",
    "---\n",
    "\n",
    "### **Final Answer:**\n",
    "$$\n",
    "\\boxed{2{,}240}\n",
    "$$\n"
   ]
  },
  {
   "cell_type": "code",
   "execution_count": null,
   "id": "439d9712-7309-4db5-8e0e-fc7784c8b4cc",
   "metadata": {},
   "outputs": [],
   "source": []
  }
 ],
 "metadata": {
  "kernelspec": {
   "display_name": "Python 3 (ipykernel)",
   "language": "python",
   "name": "python3"
  },
  "language_info": {
   "codemirror_mode": {
    "name": "ipython",
    "version": 3
   },
   "file_extension": ".py",
   "mimetype": "text/x-python",
   "name": "python",
   "nbconvert_exporter": "python",
   "pygments_lexer": "ipython3",
   "version": "3.12.6"
  }
 },
 "nbformat": 4,
 "nbformat_minor": 5
}
