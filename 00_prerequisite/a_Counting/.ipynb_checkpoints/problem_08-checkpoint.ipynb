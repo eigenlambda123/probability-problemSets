{
 "cells": [
  {
   "cell_type": "markdown",
   "id": "d3735857-6b09-4325-96a6-4c083afe8849",
   "metadata": {},
   "source": [
    "### **Problem 8: Single Die Roll Sequence**  \n",
    "**Scenario**: A single die is rolled three times.  \n",
    "\n",
    "#### **Question**  \n",
    "How many ways can you roll:  \n",
    "(a) A number **less than 3** on the first roll,  \n",
    "(b) An **even** number on the second roll, and  \n",
    "(c) An **odd** number on the third roll?\n",
    "\n",
    "---\n",
    "\n",
    "#### **Solution**  \n",
    "(a) **First Roll (Less than 3)**:  \n",
    "   - Possible outcomes: 1, 2.  \n",
    "   $$ 2 \\text{ choices} $$  \n",
    "\n",
    "(b) **Second Roll (Even)**:  \n",
    "   - Possible outcomes: 2, 4, 6.  \n",
    "   $$ 3 \\text{ choices} $$  \n",
    "\n",
    "(c) **Third Roll (Odd)**:  \n",
    "   - Possible outcomes: 1, 3, 5.  \n",
    "   $$ 3 \\text{ choices} $$  \n",
    "\n",
    "- **Total Sequences**: Multiply the choices for each independent roll.  \n",
    "  $$ 2 \\times 3 \\times 3 = \\boxed{18} \\text{ possible sequences} $$"
   ]
  }
 ],
 "metadata": {
  "kernelspec": {
   "display_name": "Python 3 (ipykernel)",
   "language": "python",
   "name": "python3"
  },
  "language_info": {
   "codemirror_mode": {
    "name": "ipython",
    "version": 3
   },
   "file_extension": ".py",
   "mimetype": "text/x-python",
   "name": "python",
   "nbconvert_exporter": "python",
   "pygments_lexer": "ipython3",
   "version": "3.12.6"
  }
 },
 "nbformat": 4,
 "nbformat_minor": 5
}
