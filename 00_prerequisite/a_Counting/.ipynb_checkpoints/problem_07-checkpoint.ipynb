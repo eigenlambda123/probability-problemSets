{
 "cells": [
  {
   "cell_type": "markdown",
   "id": "9258fb52-e8d4-449e-a81e-10cf71668e85",
   "metadata": {},
   "source": [
    "### **Problem 7: Alaska License Plate Combinations**  \n",
    "**Standard Configuration**: 3 letters (A-Z) followed by 3 digits (0-9).  \n",
    "\n",
    "#### **(a) With Repetition Allowed**  \n",
    "**Question**: How many different license plates are possible if letters and digits **can** be repeated?  \n",
    "\n",
    "**Solution**:  \n",
    "- **Letters**: 26 choices for each of 3 positions.  \n",
    "  $$ 26 \\times 26 \\times 26 = 26^3 $$  \n",
    "- **Digits**: 10 choices for each of 3 positions.  \n",
    "  $$ 10 \\times 10 \\times 10 = 10^3 $$  \n",
    "- **Total**:  \n",
    "  $$ 26^3 \\times 10^3 = \\boxed{17,\\!576,\\!000} \\text{ possible plates} $$  \n",
    "\n",
    "#### **(b) With No Repetition**  \n",
    "**Question**: How many different license plates are possible if letters and digits **cannot** be repeated?  \n",
    "\n",
    "**Solution**:  \n",
    "- **Letters**:  \n",
    "  - 1st letter: 26 choices.  \n",
    "  - 2nd letter: 25 remaining choices.  \n",
    "  - 3rd letter: 24 remaining choices.  \n",
    "  $$ 26 \\times 25 \\times 24 $$  \n",
    "- **Digits**:  \n",
    "  - 1st digit: 10 choices.  \n",
    "  - 2nd digit: 9 remaining choices.  \n",
    "  - 3rd digit: 8 remaining choices.  \n",
    "  $$ 10 \\times 9 \\times 8 $$  \n",
    "- **Total**:  \n",
    "  $$ (26 \\times 25 \\times 24) \\times (10 \\times 9 \\times 8) = \\boxed{11,\\!232,\\!000} \\text{ possible plates} $$  \n"
   ]
  }
 ],
 "metadata": {
  "kernelspec": {
   "display_name": "Python 3 (ipykernel)",
   "language": "python",
   "name": "python3"
  },
  "language_info": {
   "codemirror_mode": {
    "name": "ipython",
    "version": 3
   },
   "file_extension": ".py",
   "mimetype": "text/x-python",
   "name": "python",
   "nbconvert_exporter": "python",
   "pygments_lexer": "ipython3",
   "version": "3.12.6"
  }
 },
 "nbformat": 4,
 "nbformat_minor": 5
}
