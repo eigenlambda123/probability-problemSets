{
 "cells": [
  {
   "cell_type": "markdown",
   "id": "081ec4b5-2e9c-40dc-8e68-e4cba2c6f6be",
   "metadata": {},
   "source": [
    "## **Problem 3: Outfit Combinations**\n",
    "\n",
    "A men’s department store sells:\n",
    "- 3 different **suit jackets**\n",
    "- 6 different **shirts**\n",
    "- 8 different **ties**\n",
    "- 4 different **pairs of pants**\n",
    "\n",
    "> **How many different suits consisting of one jacket, one shirt, one tie, and one pair of pants are possible?**\n",
    "\n",
    "### **Concept Used:**\n",
    "\n",
    "**Multiplication Rule** — For independent choices, multiply the number of options for each component.\n",
    "\n",
    "---\n",
    "\n",
    "### **Calculation:**\n",
    "\n",
    "- Jackets: 3 choices  \n",
    "- Shirts: 6 choices  \n",
    "- Ties: 8 choices  \n",
    "- Pants: 4 choices  \n",
    "\n",
    "$$\n",
    "\\text{Total suits} = 3 \\cdot 6 \\cdot 8 \\cdot 4 = \\boxed{576}\n",
    "$$\n",
    "\n",
    "\n",
    "### **Final Answer:**\n",
    "$$\n",
    "\\boxed{576}\n",
    "$$"
   ]
  }
 ],
 "metadata": {
  "kernelspec": {
   "display_name": "Python 3 (ipykernel)",
   "language": "python",
   "name": "python3"
  },
  "language_info": {
   "codemirror_mode": {
    "name": "ipython",
    "version": 3
   },
   "file_extension": ".py",
   "mimetype": "text/x-python",
   "name": "python",
   "nbconvert_exporter": "python",
   "pygments_lexer": "ipython3",
   "version": "3.12.6"
  }
 },
 "nbformat": 4,
 "nbformat_minor": 5
}
