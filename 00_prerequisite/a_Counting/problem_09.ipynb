{
 "cells": [
  {
   "cell_type": "markdown",
   "id": "31841f0a-d9e0-4656-a5c4-a91afd0d7348",
   "metadata": {},
   "source": [
    "### **Problem 9: Single Die Roll Sequence**  \n",
    "**Scenario**: A single die is rolled twice.  \n",
    "\n",
    "#### **Question**  \n",
    "How many ways can you roll:  \n",
    "(a) A **prime** number on the first roll, followed by  \n",
    "(b) A **6** on the second roll?  \n",
    "\n",
    "---\n",
    "#### **Solution**  \n",
    "(a) **First Roll (Prime)**:  \n",
    "   - Possible prime numbers on a die: 2, 3, 5.  \n",
    "   $$ 3 \\text{ choices} $$  \n",
    "\n",
    "(b) **Second Roll (6)**:  \n",
    "   - Only one possible outcome: 6.  \n",
    "   $$ 1 \\text{ choice} $$  \n",
    "\n",
    "- **Total Sequences**: Multiply the choices for each independent roll.  \n",
    "  $$ 3 \\times 1 = \\boxed{3} \\text{ possible sequences} $$  \n",
    "\n",
    "**Note**: The prime numbers on a standard die (1-6) are 2, 3, and 5 (1 is not considered prime)."
   ]
  }
 ],
 "metadata": {
  "kernelspec": {
   "display_name": "Python 3 (ipykernel)",
   "language": "python",
   "name": "python3"
  },
  "language_info": {
   "codemirror_mode": {
    "name": "ipython",
    "version": 3
   },
   "file_extension": ".py",
   "mimetype": "text/x-python",
   "name": "python",
   "nbconvert_exporter": "python",
   "pygments_lexer": "ipython3",
   "version": "3.12.6"
  }
 },
 "nbformat": 4,
 "nbformat_minor": 5
}
